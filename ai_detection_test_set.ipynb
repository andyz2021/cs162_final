{
 "cells": [
  {
   "cell_type": "code",
   "execution_count": null,
   "id": "e070b538",
   "metadata": {},
   "outputs": [],
   "source": [
    "from datasets import load_dataset\n",
    "import numpy as np\n",
    "from transformers import AutoTokenizer\n",
    "import evaluate\n",
    "from datasets import load_dataset, concatenate_datasets\n",
    "from transformers import DataCollatorForSeq2Seq\n",
    "from transformers import AutoModelForSeq2SeqLM, Seq2SeqTrainingArguments, Seq2SeqTrainer\n",
    "import json\n",
    "import pandas as pd\n",
    "\n",
    "# test_data = # TODO: Fill in here\n",
    "\n",
    "# as a reference, here is how we loaded in one of the dev datasets\n",
    "# arxiv_chatGPT = load_dataset('json', data_files='arxiv_chatGPT.jsonl')"
   ]
  },
  {
   "cell_type": "code",
   "execution_count": 32,
   "id": "41e0be36",
   "metadata": {},
   "outputs": [],
   "source": [
    "tokenizer = AutoTokenizer.from_pretrained(\"distilbert/distilbert-base-uncased\")"
   ]
  },
  {
   "cell_type": "code",
   "execution_count": 3,
   "id": "280c2905",
   "metadata": {},
   "outputs": [],
   "source": [
    "# def preprocess_function(examples):\n",
    "#     model_inputs = tokenizer(\n",
    "#         examples['text'],\n",
    "#         # padding='max_length',\n",
    "#         truncation=True,\n",
    "#         # max_length=1024,\n",
    "#         # return_tensors='pt'\n",
    "#     )\n",
    "#     model_inputs[\"labels\"] = [0 if s == 'human' else 1 for s in examples['source']]\n",
    "    \n",
    "#     return model_inputs\n",
    "\n",
    "# tokenized_test_data = test_data.map(preprocess_function, batched=True)\n"
   ]
  },
  {
   "cell_type": "code",
   "execution_count": 33,
   "id": "a8e76883",
   "metadata": {},
   "outputs": [],
   "source": [
    "from transformers import DataCollatorWithPadding\n",
    "\n",
    "data_collator = DataCollatorWithPadding(tokenizer=tokenizer)"
   ]
  },
  {
   "cell_type": "code",
   "execution_count": 34,
   "id": "98aa7fca",
   "metadata": {},
   "outputs": [],
   "source": [
    "import evaluate\n",
    "\n",
    "accuracy = evaluate.load(\"accuracy\")"
   ]
  },
  {
   "cell_type": "code",
   "execution_count": 35,
   "id": "5d657356",
   "metadata": {},
   "outputs": [],
   "source": [
    "import numpy as np\n",
    "\n",
    "\n",
    "def compute_metrics(eval_pred):\n",
    "    predictions, labels = eval_pred\n",
    "    predictions = np.argmax(predictions, axis=1)\n",
    "    return accuracy.compute(predictions=predictions, references=labels)"
   ]
  },
  {
   "cell_type": "code",
   "execution_count": 36,
   "id": "b4fdd16e",
   "metadata": {},
   "outputs": [],
   "source": [
    "id2label = {0: \"Not AI Generated\", 1: \"AI Generated\"}\n",
    "label2id = {\"Not AI Generated\": 0, \"AI Generated\": 1}"
   ]
  },
  {
   "cell_type": "code",
   "execution_count": 37,
   "id": "03dac5c5",
   "metadata": {},
   "outputs": [
    {
     "data": {
      "text/plain": [
       "DistilBertForSequenceClassification(\n",
       "  (distilbert): DistilBertModel(\n",
       "    (embeddings): Embeddings(\n",
       "      (word_embeddings): Embedding(30522, 768, padding_idx=0)\n",
       "      (position_embeddings): Embedding(512, 768)\n",
       "      (LayerNorm): LayerNorm((768,), eps=1e-12, elementwise_affine=True)\n",
       "      (dropout): Dropout(p=0.1, inplace=False)\n",
       "    )\n",
       "    (transformer): Transformer(\n",
       "      (layer): ModuleList(\n",
       "        (0-5): 6 x TransformerBlock(\n",
       "          (attention): DistilBertSdpaAttention(\n",
       "            (dropout): Dropout(p=0.1, inplace=False)\n",
       "            (q_lin): Linear(in_features=768, out_features=768, bias=True)\n",
       "            (k_lin): Linear(in_features=768, out_features=768, bias=True)\n",
       "            (v_lin): Linear(in_features=768, out_features=768, bias=True)\n",
       "            (out_lin): Linear(in_features=768, out_features=768, bias=True)\n",
       "          )\n",
       "          (sa_layer_norm): LayerNorm((768,), eps=1e-12, elementwise_affine=True)\n",
       "          (ffn): FFN(\n",
       "            (dropout): Dropout(p=0.1, inplace=False)\n",
       "            (lin1): Linear(in_features=768, out_features=3072, bias=True)\n",
       "            (lin2): Linear(in_features=3072, out_features=768, bias=True)\n",
       "            (activation): GELUActivation()\n",
       "          )\n",
       "          (output_layer_norm): LayerNorm((768,), eps=1e-12, elementwise_affine=True)\n",
       "        )\n",
       "      )\n",
       "    )\n",
       "  )\n",
       "  (pre_classifier): Linear(in_features=768, out_features=768, bias=True)\n",
       "  (classifier): Linear(in_features=768, out_features=2, bias=True)\n",
       "  (dropout): Dropout(p=0.2, inplace=False)\n",
       ")"
      ]
     },
     "execution_count": 37,
     "metadata": {},
     "output_type": "execute_result"
    }
   ],
   "source": [
    "# initialize model\n",
    "from transformers import AutoModelForSequenceClassification\n",
    "import torch\n",
    "def predict_single_text(text, model, tokenizer, device, max_len=512, threshold=0.5):\n",
    "    encoded = tokenizer(\n",
    "        text,\n",
    "        padding='max_length',\n",
    "        truncation=True,\n",
    "        max_length=max_len,\n",
    "        return_tensors='pt'\n",
    "    )\n",
    "    input_ids = encoded['input_ids'].to(device)\n",
    "    attention_mask = encoded['attention_mask'].to(device)\n",
    "\n",
    "    model.eval()\n",
    "    with torch.no_grad():\n",
    "        outputs = model(input_ids=input_ids, attention_mask=attention_mask)\n",
    "        logits = outputs[\"logits\"]\n",
    "        # softmax the logits\n",
    "        logits = torch.softmax(logits, dim=1)\n",
    "        # get probability of being AI generated\n",
    "        probability = logits[0][1].item()\n",
    "\n",
    "    label = 1 if probability >= threshold else 0\n",
    "    return probability, label\n",
    "\n",
    "device = torch.device(\"cuda\" if torch.cuda.is_available() else \"cpu\")\n",
    "# --- Run prediction ---\n",
    "tokenizer = AutoTokenizer.from_pretrained(\"ai_detection_model_final\") # Replace ai_detection_model_final with your model name\n",
    "tuned_model = AutoModelForSequenceClassification.from_pretrained(\n",
    "    \"ai_detection_model_final\", num_labels=2, id2label=id2label, label2id=label2id\n",
    ")\n",
    "tuned_model.to(device)\n"
   ]
  },
  {
   "cell_type": "code",
   "execution_count": null,
   "id": "ffd83876",
   "metadata": {},
   "outputs": [
    {
     "name": "stdout",
     "output_type": "stream",
     "text": [
      "Accuracy: 0.9000\n",
      "Recall: 0.9400\n",
      "Precision: 0.8704\n",
      "F1: 0.9038\n"
     ]
    }
   ],
   "source": [
    "# test set evaluation\n",
    "correct = 0\n",
    "tp = 0\n",
    "fp = 0\n",
    "tn = 0\n",
    "fn = 0\n",
    "total = 0\n",
    "y_true = []\n",
    "y_scores = []\n",
    "# TODO: fill in the test data here\n",
    "# try either \"test_data\" or \"test_data['train']\" depending on how you loaded the dataset\n",
    "for example in test_data['train']:\n",
    "    human_text = example['human_text']\n",
    "    probability, predicted_label = predict_single_text(human_text, tuned_model, tokenizer, device)\n",
    "    # print(f\"Probability of being AI generated: {probability:.4f}\")\n",
    "    # print(f\"Predicted label: {'AI Generated' if predicted_label == 1 else 'Not AI Generated'}\")\n",
    "    \n",
    "    y_scores.append(probability)       \n",
    "    if predicted_label == 0:\n",
    "        correct += 1\n",
    "    total += 1\n",
    "\n",
    "    # get tp/fp/fn/tn\n",
    "    if predicted_label == 1:\n",
    "        fp += 1\n",
    "        y_true.append(0)\n",
    "    elif predicted_label == 0:\n",
    "        tn += 1\n",
    "        y_true.append(0)\n",
    "\n",
    "\n",
    "    machine_text = example['machine_text']\n",
    "    probability, predicted_label = predict_single_text(machine_text, tuned_model, tokenizer, device)\n",
    "\n",
    "   \n",
    "    y_scores.append(probability)       \n",
    "    if predicted_label == 1:\n",
    "        correct += 1\n",
    "    total += 1\n",
    "\n",
    "    if predicted_label == 1:\n",
    "        tp += 1\n",
    "        y_true.append(1)\n",
    "    elif predicted_label == 0:\n",
    "        fn += 1\n",
    "        y_true.append(1)\n",
    "\n",
    "\n",
    "print(f\"Accuracy: {correct/total:.4f}\")\n",
    "print(f\"Recall: {tp/(tp+fn):.4f}\")\n",
    "print(f\"Precision: {tp/(tp+fp):.4f}\")\n",
    "print(f\"F1: {2*tp/(2*tp+fp+fn):.4f}\")"
   ]
  },
  {
   "cell_type": "code",
   "execution_count": null,
   "id": "8d2287a0",
   "metadata": {},
   "outputs": [],
   "source": []
  }
 ],
 "metadata": {
  "kernelspec": {
   "display_name": ".venv",
   "language": "python",
   "name": "python3"
  },
  "language_info": {
   "codemirror_mode": {
    "name": "ipython",
    "version": 3
   },
   "file_extension": ".py",
   "mimetype": "text/x-python",
   "name": "python",
   "nbconvert_exporter": "python",
   "pygments_lexer": "ipython3",
   "version": "3.11.4"
  }
 },
 "nbformat": 4,
 "nbformat_minor": 5
}
